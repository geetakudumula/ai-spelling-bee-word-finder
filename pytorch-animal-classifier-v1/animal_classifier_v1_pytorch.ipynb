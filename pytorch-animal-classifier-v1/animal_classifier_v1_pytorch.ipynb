{
 "cells": [
  {
   "cell_type": "code",
   "execution_count": 2,
   "id": "28a8fe3d-4579-4dd1-9190-38fe492de2e0",
   "metadata": {},
   "outputs": [],
   "source": [
    "# Step 1: Import required libraries\n",
    "import torch\n",
    "import torch.nn as nn\n",
    "import torch.nn.functional as F\n",
    "import torch.optim as optim\n",
    "import numpy as np"
   ]
  },
  {
   "cell_type": "code",
   "execution_count": 4,
   "id": "afd9a1f4-afc0-4c32-b2de-4282cdae2565",
   "metadata": {},
   "outputs": [],
   "source": [
    "# Step 2: Generate Synthetic Data\n",
    "\n",
    "# Set dimensions\n",
    "num_samples = 300  # 100 per class\n",
    "image_height, image_width = 28, 28\n",
    "num_classes = 3\n",
    "\n",
    "# Create synthetic grayscale image data\n",
    "X = np.random.rand(num_samples, 1, image_height, image_width).astype(np.float32)\n",
    "\n",
    "# Labels: 0=Cat, 1=Dog, 2=Raccoon\n",
    "y = np.array([0]*100 + [1]*100 + [2]*100)\n",
    "\n",
    "# Shuffle data\n",
    "indices = np.random.permutation(num_samples)\n",
    "X = X[indices]\n",
    "y = y[indices]\n"
   ]
  },
  {
   "cell_type": "code",
   "execution_count": 5,
   "id": "d4eea6d8-5b27-4b39-b2ce-009bdb536a9f",
   "metadata": {},
   "outputs": [
    {
     "name": "stdout",
     "output_type": "stream",
     "text": [
      "AnimalClassifier(\n",
      "  (flatten): Flatten(start_dim=1, end_dim=-1)\n",
      "  (fc1): Linear(in_features=784, out_features=128, bias=True)\n",
      "  (relu1): ReLU()\n",
      "  (fc2): Linear(in_features=128, out_features=64, bias=True)\n",
      "  (relu2): ReLU()\n",
      "  (output): Linear(in_features=64, out_features=3, bias=True)\n",
      ")\n"
     ]
    }
   ],
   "source": [
    "# Step 3: Define a simple feedforward neural network in PyTorch\n",
    "import torch.nn as nn\n",
    "\n",
    "class AnimalClassifier(nn.Module):\n",
    "    def __init__(self):\n",
    "        super(AnimalClassifier, self).__init__()\n",
    "        self.flatten = nn.Flatten()\n",
    "        self.fc1 = nn.Linear(28 * 28, 128)   # First hidden layer\n",
    "        self.relu1 = nn.ReLU()\n",
    "        self.fc2 = nn.Linear(128, 64)        # Second hidden layer\n",
    "        self.relu2 = nn.ReLU()\n",
    "        self.output = nn.Linear(64, 3)       # Output layer for 3 classes\n",
    "\n",
    "    def forward(self, x):\n",
    "        x = self.flatten(x)\n",
    "        x = self.relu1(self.fc1(x))\n",
    "        x = self.relu2(self.fc2(x))\n",
    "        return self.output(x)  # logits (no softmax here; we use CrossEntropyLoss)\n",
    "\n",
    "# Instantiate the model and print summary\n",
    "model = AnimalClassifier()\n",
    "print(model)\n"
   ]
  },
  {
   "cell_type": "code",
   "execution_count": 9,
   "id": "58042399-af34-43c3-be29-5d867d7f6601",
   "metadata": {},
   "outputs": [],
   "source": [
    "# Step 4: Set up the loss function and optimizer\n",
    "\n",
    "import torch.optim as optim\n",
    "\n",
    "# CrossEntropyLoss is perfect for multi-class classification problems.\n",
    "# It combines softmax + negative log likelihood internally.\n",
    "criterion = nn.CrossEntropyLoss()\n",
    "\n",
    "# We'll use the Adam optimizer to update model weights.\n",
    "# It's known for fast convergence in many deep learning tasks.\n",
    "optimizer = optim.Adam(model.parameters(), lr=0.001)\n"
   ]
  },
  {
   "cell_type": "code",
   "execution_count": 12,
   "id": "40c917f2-a7f4-4394-a1bd-9b678db10ee7",
   "metadata": {},
   "outputs": [],
   "source": [
    "# Step 4.4: Simulate grayscale 28x28 images and labels\n",
    "\n",
    "import numpy as np\n",
    "\n",
    "num_samples = 300\n",
    "image_height, image_width = 28, 28\n",
    "num_classes = 3  # 0=Cat, 1=Dog, 2=Raccoon\n",
    "\n",
    "# Generate synthetic grayscale image data\n",
    "X_train = np.random.rand(num_samples, image_height, image_width, 1)\n",
    "\n",
    "# Generate class labels: 100 samples each of 3 classes\n",
    "y_train = np.array([0]*100 + [1]*100 + [2]*100)\n",
    "\n",
    "# Shuffle the data\n",
    "indices = np.random.permutation(num_samples)\n",
    "X_train = X_train[indices]\n",
    "y_train = y_train[indices]\n"
   ]
  },
  {
   "cell_type": "code",
   "execution_count": 13,
   "id": "b33eca33-8552-4312-b62e-9d23851f2c40",
   "metadata": {},
   "outputs": [],
   "source": [
    "# Step 4.5: Convert NumPy arrays to PyTorch tensors for training\n",
    "\n",
    "import torch\n",
    "\n",
    "# Convert input data to float32 and labels to long (int64) for classification\n",
    "X_train_tensor = torch.tensor(X_train, dtype=torch.float32)\n",
    "y_train_tensor = torch.tensor(y_train, dtype=torch.long)\n"
   ]
  },
  {
   "cell_type": "code",
   "execution_count": 14,
   "id": "d2191f2f-75da-41a5-b253-d187cc22fbf0",
   "metadata": {},
   "outputs": [
    {
     "name": "stdout",
     "output_type": "stream",
     "text": [
      "Epoch [1/10], Loss: 1.1054\n",
      "Epoch [2/10], Loss: 1.0945\n",
      "Epoch [3/10], Loss: 1.0886\n",
      "Epoch [4/10], Loss: 1.0819\n",
      "Epoch [5/10], Loss: 1.0739\n",
      "Epoch [6/10], Loss: 1.0647\n",
      "Epoch [7/10], Loss: 1.0535\n",
      "Epoch [8/10], Loss: 1.0410\n",
      "Epoch [9/10], Loss: 1.0267\n",
      "Epoch [10/10], Loss: 1.0106\n"
     ]
    }
   ],
   "source": [
    "# Step 5: Training loop (run for a few epochs to train the model)\n",
    "\n",
    "epochs = 10  # Number of passes through the full dataset\n",
    "\n",
    "for epoch in range(epochs):\n",
    "    model.train()  # Put the model in training mode\n",
    "\n",
    "    optimizer.zero_grad()        # Clear gradients from the previous step\n",
    "    outputs = model(X_train_tensor)  # Forward pass\n",
    "    loss = criterion(outputs, y_train_tensor)  # Calculate loss\n",
    "\n",
    "    loss.backward()  # Backpropagation\n",
    "    optimizer.step()  # Update model weights\n",
    "\n",
    "    print(f\"Epoch [{epoch+1}/{epochs}], Loss: {loss.item():.4f}\")\n"
   ]
  },
  {
   "cell_type": "code",
   "execution_count": 15,
   "id": "1b840a20-1e22-45d6-9dd6-44ae6c1004d2",
   "metadata": {},
   "outputs": [
    {
     "name": "stdout",
     "output_type": "stream",
     "text": [
      "Test Image 1: Predicted as 'Dog' with 0.36 confidence\n",
      "Test Image 2: Predicted as 'Raccoon' with 0.37 confidence\n",
      "Test Image 3: Predicted as 'Cat' with 0.35 confidence\n",
      "Test Image 4: Predicted as 'Raccoon' with 0.34 confidence\n",
      "Test Image 5: Predicted as 'Dog' with 0.36 confidence\n"
     ]
    }
   ],
   "source": [
    "# Step 6: Evaluate the model on new unseen data\n",
    "\n",
    "# Generate 5 new random grayscale images (like new test set)\n",
    "X_test = np.random.rand(5, image_height, image_width, 1)\n",
    "X_test_tensor = torch.tensor(X_test, dtype=torch.float32)\n",
    "\n",
    "# Set model to evaluation mode\n",
    "model.eval()\n",
    "\n",
    "# Get predictions (no gradient tracking needed during inference)\n",
    "with torch.no_grad():\n",
    "    predictions = model(X_test_tensor)\n",
    "\n",
    "# Interpret predictions\n",
    "class_names = ['Cat', 'Dog', 'Raccoon']\n",
    "predicted_classes = torch.argmax(predictions, dim=1)\n",
    "confidences = torch.nn.functional.softmax(predictions, dim=1)\n",
    "\n",
    "# Print results\n",
    "for i, (pred_class, conf) in enumerate(zip(predicted_classes, confidences)):\n",
    "    label = class_names[pred_class]\n",
    "    confidence = conf[pred_class].item()\n",
    "    print(f\"Test Image {i+1}: Predicted as '{label}' with {confidence:.2f} confidence\")\n"
   ]
  },
  {
   "cell_type": "code",
   "execution_count": null,
   "id": "9d5b3a0a-97ed-47da-bac2-b2c644fd4805",
   "metadata": {},
   "outputs": [],
   "source": []
  }
 ],
 "metadata": {
  "kernelspec": {
   "display_name": "Python 3 (ipykernel)",
   "language": "python",
   "name": "python3"
  },
  "language_info": {
   "codemirror_mode": {
    "name": "ipython",
    "version": 3
   },
   "file_extension": ".py",
   "mimetype": "text/x-python",
   "name": "python",
   "nbconvert_exporter": "python",
   "pygments_lexer": "ipython3",
   "version": "3.8.2"
  }
 },
 "nbformat": 4,
 "nbformat_minor": 5
}
